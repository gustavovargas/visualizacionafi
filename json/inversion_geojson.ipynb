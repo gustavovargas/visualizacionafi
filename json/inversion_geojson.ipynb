{
 "cells": [
  {
   "cell_type": "markdown",
   "metadata": {},
   "source": [
    "### Programa para cambiar el orden de los puntos de un geojson\n",
    "\n",
    "Para que los archivos .geojson que se obtienen desde http://geojson.io funcionen con d3.js hay que hacerles dos cambios:\n",
    "- En un geojson el orden de los puntos importa. Si le das a la función de d3 que lee los mapas los puntos en el orden incorrecto (dibujado al contrario de las agujas del reloj), al hacer el fill en el css te pintará el exterior de la zona del mapa, no la interior.\n",
    "- Además de lo anterior, si el geojson no tiene una entrada de \"id\" que ponga algo, lo que sea, tampoco la reconocerá.\n",
    "\n",
    "Por ello, con el código siguiente podremos arreglarlo y que d3 pinte bien nuestro mapa. Aquí asumimos que el mapa hecho en geojson.io tiene una entrada de properties/provincias. Para que eso sea así, a la hora de generar nuestro mapa en esa web, debemos haber ido a la pestaña \"table\" y haber generado una columna llamada \"provincias\", a la que a cada \"feature\" (área que hayamos dibujado), le debemos haber dado un nombre que lo identifique.\n",
    "\n",
    "Para sugerencias de mejora, podéis escribirme a ge.vargasn@gmail.com"
   ]
  },
  {
   "cell_type": "code",
   "execution_count": 1,
   "metadata": {},
   "outputs": [],
   "source": [
    "from geojson_rewind import rewind"
   ]
  },
  {
   "cell_type": "code",
   "execution_count": 2,
   "metadata": {},
   "outputs": [],
   "source": [
    "import json\n",
    "from pprint import pprint"
   ]
  },
  {
   "cell_type": "code",
   "execution_count": 3,
   "metadata": {},
   "outputs": [],
   "source": [
    "with open('mapa.geojson') as f:\n",
    "    data = json.load(f)\n",
    "\n",
    "# Con pprint podemos ver mejor el orden de un geogson\n",
    "# pprint(data['features'][0]['geometry']['coordinates'][0][::-1])\n",
    "# pprint(data['features'][0]['geometry']['coordinates'][0])\n",
    "\n",
    "\n",
    "#pprint(data['features'][0])"
   ]
  },
  {
   "cell_type": "code",
   "execution_count": 7,
   "metadata": {},
   "outputs": [],
   "source": [
    "data2 = data\n",
    "for i in range(len(data['features'])):\n",
    "    data['features'][i]['geometry']['coordinates'][0] = data['features'][i]['geometry']['coordinates'][0][::-1]\n",
    "    \n",
    "\n",
    "for i in range(len(data['features'])):\n",
    "    data['features'][i]['id'] = data['features'][i]['properties']['provincias']"
   ]
  },
  {
   "cell_type": "code",
   "execution_count": 8,
   "metadata": {},
   "outputs": [],
   "source": [
    "with open('mapa.geojson', 'w') as outfile:\n",
    "    json.dump(data, outfile)"
   ]
  }
 ],
 "metadata": {
  "kernelspec": {
   "display_name": "Python 3",
   "language": "python",
   "name": "python3"
  },
  "language_info": {
   "codemirror_mode": {
    "name": "ipython",
    "version": 3
   },
   "file_extension": ".py",
   "mimetype": "text/x-python",
   "name": "python",
   "nbconvert_exporter": "python",
   "pygments_lexer": "ipython3",
   "version": "3.6.5"
  },
  "varInspector": {
   "cols": {
    "lenName": 16,
    "lenType": 16,
    "lenVar": 40
   },
   "kernels_config": {
    "python": {
     "delete_cmd_postfix": "",
     "delete_cmd_prefix": "del ",
     "library": "var_list.py",
     "varRefreshCmd": "print(var_dic_list())"
    },
    "r": {
     "delete_cmd_postfix": ") ",
     "delete_cmd_prefix": "rm(",
     "library": "var_list.r",
     "varRefreshCmd": "cat(var_dic_list()) "
    }
   },
   "types_to_exclude": [
    "module",
    "function",
    "builtin_function_or_method",
    "instance",
    "_Feature"
   ],
   "window_display": false
  }
 },
 "nbformat": 4,
 "nbformat_minor": 2
}
